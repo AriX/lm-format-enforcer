{
 "cells": [
  {
   "cell_type": "markdown",
   "metadata": {},
   "source": [
    "## Setting up the COLAB runtime (user action required)\n",
    "\n",
    "This colab-friendly notebook is targeted at demoing the enforcer on LLAMA2. It is able to be executed on a free GPU on Google Colab.\n",
    "Make sure that your runtime is set to GPU (Menu Bar -> Runtime -> Change runtime type -> GPU - T4 at the time of creating this notebook. [Guide here](https://www.codesansar.com/deep-learning/using-free-gpu-tpu-google-colab.htm))."
   ]
  },
  {
   "cell_type": "markdown",
   "metadata": {},
   "source": [
    "## Gathering huggingface credentials (user action required)\n",
    "\n",
    "We begin by installing the dependencies. This demo uses llama2, so you will have to create a free huggingface account, request access to the llama2 model, create an access token, and insert it when executing the next cell will request it. Links:\n",
    "\n",
    "- [Request access to llama model](https://huggingface.co/meta-llama/Llama-2-7b-chat-hf). See the \"Access Llama 2 on Hugging Face\" section.\n",
    "- [Create huggingface access token](https://huggingface.co/settings/tokens)\n"
   ]
  },
  {
   "cell_type": "code",
   "execution_count": null,
   "metadata": {},
   "outputs": [],
   "source": [
    "!pip install transformers torch lm-format-enforcer huggingface_hub accelerate bitsandbytes cpm_kernels\n",
    "!huggingface-cli login"
   ]
  },
  {
   "cell_type": "code",
   "execution_count": 2,
   "metadata": {},
   "outputs": [
    {
     "name": "stderr",
     "output_type": "stream",
     "text": [
      "Downloading (…)fetensors.index.json: 100%|██████████| 26.8k/26.8k [00:00<00:00, 54.8MB/s]\n",
      "Downloading (…)of-00002.safetensors: 100%|██████████| 9.98G/9.98G [02:33<00:00, 65.1MB/s]\n",
      "Downloading (…)of-00002.safetensors: 100%|██████████| 3.50G/3.50G [00:51<00:00, 68.1MB/s]\n",
      "Downloading shards: 100%|██████████| 2/2 [03:25<00:00, 102.63s/it]\n",
      "Loading checkpoint shards: 100%|██████████| 2/2 [03:56<00:00, 118.07s/it]\n"
     ]
    }
   ],
   "source": [
    "import torch\n",
    "from transformers import AutoConfig, AutoModelForCausalLM, AutoTokenizer\n",
    "\n",
    "model_id = 'meta-llama/Llama-2-7b-chat-hf'\n",
    "device = 'cuda'\n",
    "\n",
    "if torch.cuda.is_available():\n",
    "    config = AutoConfig.from_pretrained(model_id)\n",
    "    config.pretraining_tp = 1\n",
    "    model = AutoModelForCausalLM.from_pretrained(\n",
    "        model_id,\n",
    "        config=config,\n",
    "        torch_dtype=torch.float16,\n",
    "        load_in_8bit=True,\n",
    "        device_map='auto'\n",
    "    )\n",
    "else:\n",
    "    raise Exception('GPU not available')\n",
    "tokenizer = AutoTokenizer.from_pretrained(model_id)"
   ]
  },
  {
   "cell_type": "markdown",
   "metadata": {},
   "source": [
    "If the previous cell executed successfully, you have propertly set up your Colab runtime and huggingface account!"
   ]
  },
  {
   "cell_type": "markdown",
   "metadata": {},
   "source": [
    "## Setting up the prompt for the specific language model\n",
    "\n",
    "We set up the prompting style according to the demo at https://huggingface.co/spaces/huggingface-projects/llama-2-13b-chat/blob/main/app.py ."
   ]
  },
  {
   "cell_type": "code",
   "execution_count": 3,
   "metadata": {},
   "outputs": [],
   "source": [
    "def get_prompt(message: str, chat_history: list[tuple[str, str]],\n",
    "               system_prompt: str) -> str:\n",
    "    texts = [f'<s>[INST] <<SYS>>\\n{system_prompt}\\n<</SYS>>\\n\\n']\n",
    "    # The first user input is _not_ stripped\n",
    "    do_strip = False\n",
    "    for user_input, response in chat_history:\n",
    "        user_input = user_input.strip() if do_strip else user_input\n",
    "        do_strip = True\n",
    "        texts.append(f'{user_input} [/INST] {response.strip()} </s><s>[INST] ')\n",
    "    message = message.strip() if do_strip else message\n",
    "    texts.append(f'{message} [/INST]')\n",
    "    return ''.join(texts)\n",
    "\n",
    "\n",
    "def get_input_token_length(message: str, chat_history: list[tuple[str, str]], system_prompt: str) -> int:\n",
    "    prompt = get_prompt(message, chat_history, system_prompt)\n",
    "    input_ids = tokenizer([prompt], return_tensors='np', add_special_tokens=False)['input_ids']\n",
    "    return input_ids.shape[-1]"
   ]
  },
  {
   "cell_type": "markdown",
   "metadata": {},
   "source": [
    "## Calling generate_enforced() instead of model.generate()\n",
    "\n",
    "The main function is fairly straightforward, except for the optional parameters ```required_regex``` / ```required_str``` / ```required_json_schema``` which activate the appropriate ```CharacterLevelParser``` to be used by the format enforcer.\n",
    "\n",
    "The implementation includes ```output_scores=True``` when calling ```generate_enforced()```, which returns diagnostic information about the enforcer's actions. We will use this to understand the results later in this notebook."
   ]
  },
  {
   "cell_type": "code",
   "execution_count": 8,
   "metadata": {},
   "outputs": [],
   "source": [
    "from typing import Tuple, Optional\n",
    "import pandas as pd\n",
    "from lmformatenforcer import JsonSchemaParser, CharacterLevelParser, RegexParser, StringParser, generate_enforced\n",
    "\n",
    "def run(message: str,\n",
    "        chat_history: list[tuple[str, str]],\n",
    "        system_prompt: str,\n",
    "        max_new_tokens: int = 1024,\n",
    "        temperature: float = 0.8,\n",
    "        top_p: float = 0.95,\n",
    "        top_k: int = 50,\n",
    "        required_regex: Optional[str] = None,\n",
    "        required_str: Optional[str] = None,\n",
    "        required_json_schema: Optional[dict] = None) -> Tuple[str, Optional[pd.DataFrame]]:\n",
    "    prompt = get_prompt(message, chat_history, system_prompt)\n",
    "    inputs = tokenizer([prompt], return_tensors='pt', add_special_tokens=False, return_token_type_ids=False).to(device)\n",
    "    \n",
    "    generate_kwargs = dict(\n",
    "        inputs,\n",
    "        # streamer=streamer,\n",
    "        max_new_tokens=max_new_tokens,\n",
    "        do_sample=True,\n",
    "        top_p=top_p,\n",
    "        top_k=top_k,\n",
    "        temperature=temperature,\n",
    "        num_beams=1,\n",
    "        output_scores=True,\n",
    "        return_dict_in_generate=True\n",
    "    )\n",
    "\n",
    "    parser: Optional[CharacterLevelParser] = None\n",
    "    if required_regex:\n",
    "        parser = RegexParser(required_regex)\n",
    "    if required_str:\n",
    "        parser = StringParser(required_str)\n",
    "    if required_json_schema:\n",
    "        parser = JsonSchemaParser(required_json_schema)\n",
    "\n",
    "    if parser:\n",
    "        output = generate_enforced(model, tokenizer, parser, **generate_kwargs)\n",
    "    else:\n",
    "        output = model.generate(**generate_kwargs)\n",
    "\n",
    "    sequence = output['sequences'][0]\n",
    "    # skip_prompt=True doesn't work consistenly, so we hack around it.\n",
    "    string_output = tokenizer.decode(sequence, skip_special_tokens=True)\n",
    "    string_output = string_output.replace(prompt[3:], ' ')\n",
    "    if parser:\n",
    "        enforced_scores_dict = output.enforced_scores\n",
    "        enforced_scores = pd.DataFrame(enforced_scores_dict)\n",
    "        pd.set_option('display.width', 1000)\n",
    "        pd.set_option('display.max_columns', 10)\n",
    "        pd.set_option('display.max_rows', 200)\n",
    "        pd.set_option('display.float_format', ' {:,.5f}'.format)\n",
    "    else:\n",
    "        enforced_scores = None\n",
    "    return string_output, enforced_scores\n"
   ]
  },
  {
   "cell_type": "markdown",
   "metadata": {},
   "source": [
    "## JSON Use case\n",
    "\n",
    "Now we demnostrate using ```JsonSchemaParser```. We create a pydantic model, generate the schema from it, and use that to enforce the format.\n",
    "The output will always be in a format that can be parsed by the parser."
   ]
  },
  {
   "cell_type": "code",
   "execution_count": 14,
   "metadata": {},
   "outputs": [
    {
     "name": "stdout",
     "output_type": "stream",
     "text": [
      "Question:\n",
      "Please give me information about Michael Jordan. You MUST answer using the following json schema: {\"title\": \"AnswerFormat\", \"type\": \"object\", \"properties\": {\"first_name\": {\"title\": \"First Name\", \"type\": \"string\"}, \"last_name\": {\"title\": \"Last Name\", \"type\": \"string\"}, \"year_of_birth\": {\"title\": \"Year Of Birth\", \"type\": \"integer\"}, \"num_seasons_in_nba\": {\"title\": \"Num Seasons In Nba\", \"type\": \"integer\"}}, \"required\": [\"first_name\", \"last_name\", \"year_of_birth\", \"num_seasons_in_nba\"]}\n",
      "\n",
      "----------------------------------------\n",
      "\n",
      "With json schema enforcing:\n",
      "   { \"first_name\": \"Michael\", \"last_name\": \"Jordan\", \"year_of_birth\": 1963, \"num_seasons_in_nba\": 15 }\n",
      "\n",
      "----------------------------------------\n",
      "\n",
      "Without json schema enforcing:\n",
      "   Of course! I'd be happy to help you with your question about Michael Jordan. Here is the information you requested in the format specified in the JSON schema:\n",
      "{\n",
      "\"title\": \"AnswerFormat\",\n",
      "\"type\": \"object\",\n",
      "\"properties\": {\n",
      "\"first_name\": {\"title\": \"First Name\", \"type\": \"string\"},\n",
      "\"last_name\": {\"title\": \"Last Name\", \"type\": \"string\"},\n",
      "\"year_of_\n"
     ]
    }
   ],
   "source": [
    "from pydantic import BaseModel\n",
    "\n",
    "\n",
    "DEFAULT_SYSTEM_PROMPT = \"\"\"\\\n",
    "You are a helpful, respectful and honest assistant. Always answer as helpfully as possible, while being safe.  Your answers should not include any harmful, unethical, racist, sexist, toxic, dangerous, or illegal content. Please ensure that your responses are socially unbiased and positive in nature.\\n\\nIf a question does not make any sense, or is not factually coherent, explain why instead of answering something not correct. If you don't know the answer to a question, please don't share false information.\\\n",
    "\"\"\"\n",
    "MAX_MAX_NEW_TOKENS = 200\n",
    "DEFAULT_MAX_NEW_TOKENS = 100\n",
    "MAX_INPUT_TOKEN_LENGTH = 4000\n",
    "floating_point_regex = 'Michael Jordan was Born in (\\d)+(.\\d+)?'\n",
    "integer_regex = ' Michael Jordan was Born in (\\d)+.'\n",
    "\n",
    "class AnswerFormat(BaseModel):\n",
    "    first_name: str\n",
    "    last_name: str\n",
    "    year_of_birth: int\n",
    "    num_seasons_in_nba: int\n",
    "\n",
    "question = 'Please give me information about Michael Jordan. You MUST answer using the following json schema: '\n",
    "question_with_schema = f'{question}{AnswerFormat.schema_json()}'\n",
    "\n",
    "print(\"Question:\")\n",
    "print(question_with_schema)\n",
    "\n",
    "print('\\n----------------------------------------\\n')\n",
    "\n",
    "print(f\"With json schema enforcing:\")\n",
    "result, enforced_scores = run(question_with_schema, chat_history=[], system_prompt=DEFAULT_SYSTEM_PROMPT, max_new_tokens=DEFAULT_MAX_NEW_TOKENS, required_json_schema=AnswerFormat.schema())\n",
    "print(result)\n",
    "\n",
    "print('\\n----------------------------------------\\n')\n",
    "\n",
    "print(f\"Without json schema enforcing:\")\n",
    "result, _ = run(question_with_schema, chat_history=[], system_prompt=DEFAULT_SYSTEM_PROMPT, max_new_tokens=DEFAULT_MAX_NEW_TOKENS)\n",
    "print(result)\n",
    "\n"
   ]
  },
  {
   "cell_type": "markdown",
   "metadata": {},
   "source": [
    "## Understanding the results\n",
    "Both runs used the exact same prompt, but only the enforced run produced a valid JSON output.\n",
    "How did the enforcer cause the output to conform to the format? Lets look at the enforcer intervention table:\n"
   ]
  },
  {
   "cell_type": "code",
   "execution_count": 10,
   "metadata": {},
   "outputs": [
    {
     "name": "stdout",
     "output_type": "stream",
     "text": [
      "Enforcer intervention table\n",
      "   generated_token  generated_token_idx  generated_score leading_token  leading_token_idx  leading_score\n",
      "0                ▁                29871          0.99999             ▁              29871        0.99999\n",
      "1               ▁{                  426          0.00001           ▁Of               4587        0.99382\n",
      "2               ▁\"                  376          0.00312        <0x0A>                 13        0.99674\n",
      "3            first                 4102          0.00022         title               3257        0.99825\n",
      "4                _                29918          0.99994             _              29918        0.99994\n",
      "5             name                  978          1.00000          name                978        1.00000\n",
      "6               \":                 1115          0.99986            \":               1115        0.99986\n",
      "7               ▁\"                  376          0.99994            ▁\"                376        0.99994\n",
      "8          Michael                24083          0.99161       Michael              24083        0.99161\n",
      "9               \",                  613          0.98919            \",                613        0.98919\n",
      "10              ▁\"                  376          0.99986            ▁\"                376        0.99986\n",
      "11            last                 4230          1.00000          last               4230        1.00000\n",
      "12               _                29918          1.00000             _              29918        1.00000\n",
      "13            name                  978          1.00000          name                978        1.00000\n",
      "14              \":                 1115          1.00000            \":               1115        1.00000\n",
      "15              ▁\"                  376          1.00000            ▁\"                376        1.00000\n",
      "16               J                29967          0.99981             J              29967        0.99981\n",
      "17             ord                  536          0.99993           ord                536        0.99993\n",
      "18              an                  273          1.00000            an                273        1.00000\n",
      "19              \",                  613          1.00000            \",                613        1.00000\n",
      "20              ▁\"                  376          1.00000            ▁\"                376        1.00000\n",
      "21            year                 6360          0.99997          year               6360        0.99997\n",
      "22               _                29918          1.00000             _              29918        1.00000\n",
      "23              of                  974          1.00000            of                974        1.00000\n",
      "24               _                29918          1.00000             _              29918        1.00000\n",
      "25               b                29890          1.00000             b              29890        1.00000\n",
      "26            irth                 7515          1.00000          irth               7515        1.00000\n",
      "27              \":                 1115          1.00000            \":               1115        1.00000\n",
      "28               ▁                29871          0.99998             ▁              29871        0.99998\n",
      "29               1                29896          1.00000             1              29896        1.00000\n",
      "30               9                29929          1.00000             9              29929        1.00000\n",
      "31               6                29953          0.99995             6              29953        0.99995\n",
      "32               3                29941          0.99983             3              29941        0.99983\n",
      "33               ,                29892          1.00000             ,              29892        1.00000\n",
      "34              ▁\"                  376          1.00000            ▁\"                376        1.00000\n",
      "35             num                 1949          0.99994           num               1949        0.99994\n",
      "36               _                29918          1.00000             _              29918        1.00000\n",
      "37              se                  344          1.00000            se                344        1.00000\n",
      "38           asons                 7040          1.00000         asons               7040        1.00000\n",
      "39               _                29918          1.00000             _              29918        1.00000\n",
      "40              in                  262          1.00000            in                262        1.00000\n",
      "41               _                29918          1.00000             _              29918        1.00000\n",
      "42               n                29876          0.99999             n              29876        0.99999\n",
      "43              ba                 2291          0.99999            ba               2291        0.99999\n",
      "44              \":                 1115          1.00000            \":               1115        1.00000\n",
      "45               ▁                29871          1.00000             ▁              29871        1.00000\n",
      "46               1                29896          0.99989             1              29896        0.99989\n",
      "47               5                29945          0.99345             5              29945        0.99345\n",
      "48              ▁}                  500          0.99824            ▁}                500        0.99824\n",
      "49            </s>                    2          0.01614        <0x0A>                 13        0.98331\n"
     ]
    }
   ],
   "source": [
    "print(\"Enforcer intervention table\")\n",
    "print(enforced_scores)"
   ]
  },
  {
   "cell_type": "markdown",
   "metadata": {},
   "source": [
    "Token index 3 shows where the enforcer had to be aggressive:\n",
    "\n",
    "\n",
    "```\n",
    "generated_token  generated_token_idx  generated_score leading_token  leading_token_idx  leading_score\n",
    "\n",
    "3            first                 4102         0.00032         title               3257       0.94433\n",
    "```\n",
    "\n",
    "The language model was trying to generate the word \"title\" (post softmax score of 0.94433) but the enforcer made the \"first\" token (post softmax score of 0.00032) be the main candidate instead.\n",
    "This can be used to further improve the prompt engineering, as we generally want to avoid timesteps that cause the enforcer to be this aggressive, as it increases the likelyhood of hallucinations. For example, The [langchain project removes the \"title\" from the json schema](https://github.com/langchain-ai/langchain/blob/cfa2203c626a2287d60c1febeb3e3a68b77acd77/libs/langchain/langchain/output_parsers/pydantic.py#L40), probably for this reason."
   ]
  },
  {
   "cell_type": "markdown",
   "metadata": {},
   "source": [
    "## Non-JSON Use Cases\n",
    "Here are a few examples for the simple (non-json) case. Note that the ```required_regex``` does not support the full regex syntax, see the README for full limiations."
   ]
  },
  {
   "cell_type": "code",
   "execution_count": 13,
   "metadata": {},
   "outputs": [
    {
     "name": "stdout",
     "output_type": "stream",
     "text": [
      "Question:\n",
      "In what year was Michael Jordan Born? Please answer using only a number, without any prefix or suffix.\n",
      "\n",
      "----------------------------------------\n",
      "\n",
      "Without enforcing:\n",
      "   Thank you for your question! Michael Jordan was born in the year 1963. However, I must point out that the question does not make sense as Michael Jordan is not a historical figure, but rather a famous basketball player who is still alive and active in the sports industry. Therefore, his birth year is not a factual coherent answer to your question. Is there anything else I can help you with?\n",
      "\n",
      "----------------------------------------\n",
      "\n",
      "With regex force. Regex:  Michael Jordan was born in (\\d)+.\n",
      "Language model output:\n",
      "  Michael Jordan was born in 1963.\n",
      "Enforcer intervention table:\n",
      "   generated_token  generated_token_idx  generated_score leading_token  leading_token_idx  leading_score\n",
      "0                ▁                29871          0.99998             ▁              29871        0.99998\n",
      "1          Michael                24083          0.00011        ▁Thank               3374        0.60538\n",
      "2          ▁Jordan                18284          0.99999       ▁Jordan              18284        0.99999\n",
      "3             ▁was                  471          0.99998          ▁was                471        0.99998\n",
      "4            ▁born                 6345          0.99999         ▁born               6345        0.99999\n",
      "5              ▁in                  297          0.99978           ▁in                297        0.99978\n",
      "6                ▁                29871          0.29098          ▁the                278        0.70902\n",
      "7                1                29896          1.00000             1              29896        1.00000\n",
      "8                9                29929          1.00000             9              29929        1.00000\n",
      "9                6                29953          0.99998             6              29953        0.99998\n",
      "10               3                29941          0.99983             3              29941        0.99983\n",
      "11               .                29889          0.99999             .              29889        0.99999\n",
      "12            </s>                    2          0.98431          </s>                  2        0.98431\n",
      "\n",
      "----------------------------------------\n",
      "\n",
      "With string force:\n",
      "Language model output:\n",
      " The answer is 1963\n",
      "Enforcer intervention table:\n",
      "   generated_token  generated_token_idx  generated_score leading_token  leading_token_idx  leading_score\n",
      "0                T                29911          0.00000             ▁              29871        0.99998\n",
      "1                h                29882          0.00000        ▁Thank               3374        0.59680\n",
      "2                e                29872          0.00000           ank                804        0.97644\n",
      "3          ▁answer                 1234          0.39637       ▁answer               1234        0.39637\n",
      "4              ▁is                  338          0.06459           ▁to                304        0.87775\n",
      "5                ▁                29871          0.51304             ▁              29871        0.51304\n",
      "6                1                29896          0.77973             1              29896        0.77973\n",
      "7                9                29929          0.99653             9              29929        0.99653\n",
      "8                6                29953          0.99466             6              29953        0.99466\n",
      "9                3                29941          0.99443             3              29941        0.99443\n",
      "10            </s>                    2          0.03015             .              29889        0.93806\n"
     ]
    }
   ],
   "source": [
    "DEFAULT_SYSTEM_PROMPT = \"\"\"\\\n",
    "You are a helpful, respectful and honest assistant. Always answer as helpfully as possible, while being safe.  Your answers should not include any harmful, unethical, racist, sexist, toxic, dangerous, or illegal content. Please ensure that your responses are socially unbiased and positive in nature.\\n\\nIf a question does not make any sense, or is not factually coherent, explain why instead of answering something not correct. If you don't know the answer to a question, please don't share false information.\\\n",
    "\"\"\"\n",
    "MAX_MAX_NEW_TOKENS = 200\n",
    "DEFAULT_MAX_NEW_TOKENS = 100\n",
    "MAX_INPUT_TOKEN_LENGTH = 4000\n",
    "\n",
    "integer_regex = ' Michael Jordan was born in (\\d)+.'\n",
    "question = 'In what year was Michael Jordan Born? Please answer using only a number, without any prefix or suffix.'\n",
    "print(\"Question:\")\n",
    "print(question)\n",
    "\n",
    "print('\\n----------------------------------------\\n')\n",
    "\n",
    "print(\"Without enforcing:\")\n",
    "result, _ = run(question, chat_history=[], system_prompt=DEFAULT_SYSTEM_PROMPT, max_new_tokens=DEFAULT_MAX_NEW_TOKENS)\n",
    "print(result)\n",
    "\n",
    "print('\\n----------------------------------------\\n')\n",
    "\n",
    "print(f\"With regex force. Regex: {integer_regex}\")\n",
    "result, enforced_scores = run(question, chat_history=[], system_prompt=DEFAULT_SYSTEM_PROMPT, max_new_tokens=DEFAULT_MAX_NEW_TOKENS, required_regex=integer_regex)\n",
    "print(\"Language model output:\")\n",
    "print(result)\n",
    "print(\"Enforcer intervention table:\")\n",
    "print(enforced_scores)\n",
    "\n",
    "print('\\n----------------------------------------\\n')\n",
    "\n",
    "print(\"With string force:\")\n",
    "result, enforced_scores = run(question, chat_history=[], system_prompt=DEFAULT_SYSTEM_PROMPT, max_new_tokens=DEFAULT_MAX_NEW_TOKENS, required_str='The answer is 1963')\n",
    "print(\"Language model output:\")\n",
    "print(result)\n",
    "print(\"Enforcer intervention table:\")\n",
    "print(enforced_scores)"
   ]
  }
 ],
 "metadata": {
  "kernelspec": {
   "display_name": "lmformatenforcer",
   "language": "python",
   "name": "python3"
  },
  "language_info": {
   "codemirror_mode": {
    "name": "ipython",
    "version": 3
   },
   "file_extension": ".py",
   "mimetype": "text/x-python",
   "name": "python",
   "nbconvert_exporter": "python",
   "pygments_lexer": "ipython3",
   "version": "3.10.13"
  },
  "orig_nbformat": 4
 },
 "nbformat": 4,
 "nbformat_minor": 2
}
